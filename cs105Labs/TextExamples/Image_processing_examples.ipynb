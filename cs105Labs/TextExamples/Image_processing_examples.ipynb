{
 "cells": [
  {
   "cell_type": "markdown",
   "metadata": {},
   "source": [
    "# Image processing examples \n",
    "\n",
    "In this section, we will learn how to do image classification using dataset MNIST. MNIST consists of 70,000 samples of digits 0 to 9 and their labels. First, we load the dataset and do some visualization on it."
   ]
  },
  {
   "cell_type": "code",
   "execution_count": 1,
   "metadata": {},
   "outputs": [],
   "source": [
    "import matplotlib.pyplot as plt\n",
    "import numpy as np\n",
    "\n",
    "from sklearn.datasets import fetch_openml\n",
    "from sklearn.linear_model import LogisticRegression\n",
    "from sklearn.model_selection import train_test_split\n",
    "from sklearn.preprocessing import StandardScaler\n"
   ]
  },
  {
   "cell_type": "code",
   "execution_count": 2,
   "metadata": {},
   "outputs": [
    {
     "name": "stdout",
     "output_type": "stream",
     "text": [
      "Fetching data from openml database,it might take a while based on your internet connection\n",
      "(70000, 784)\n"
     ]
    }
   ],
   "source": [
    "print(\"Fetching data from openml database,it might take a while based on your internet connection\")\n",
    "X, y = fetch_openml('mnist_784', version=1, return_X_y=True, as_frame=False)\n",
    "print(X.shape)\n",
    "y=y.astype('int')"
   ]
  },
  {
   "cell_type": "markdown",
   "metadata": {},
   "source": [
    "##### We visualize the MNIST dataset as following\n",
    "\n",
    "The size of images is 28x28, so if we flat images to vectors, they will be 784-dimensional vectors."
   ]
  },
  {
   "cell_type": "code",
   "execution_count": 3,
   "metadata": {},
   "outputs": [
    {
     "data": {
      "image/png": "[encoded data removed]",
      "text/plain": [
       "<Figure size 720x216 with 6 Axes>"
      ]
     },
     "metadata": {
      "needs_background": "light"
     },
     "output_type": "display_data"
    }
   ],
   "source": [
    "_, axes = plt.subplots(nrows=1, ncols=6, figsize=(10, 3))\n",
    "\n",
    "for ax, image, label in zip(axes, X, y):\n",
    "    image=np.resize(image,(28,28))\n",
    "    #ax.set_axis_off()\n",
    "    ax.imshow(image, cmap=plt.cm.gray_r, interpolation='nearest')\n",
    "    ax.set_title('Training: %i' % label)\n"
   ]
  },
  {
   "cell_type": "code",
   "execution_count": 4,
   "metadata": {},
   "outputs": [
    {
     "name": "stdout",
     "output_type": "stream",
     "text": [
      "Train sample shape (60000, 784), targets shape (60000,)\n",
      "Test sample shape (10000, 784), targets shape (10000,)\n"
     ]
    }
   ],
   "source": [
    "# Split data into 60,000 train and 10,000 test subsets\n",
    "X_train, X_test, y_train, y_test = train_test_split(\n",
    "    X, y, test_size=10000, shuffle=True)\n",
    "print(f'Train sample shape {X_train.shape}, targets shape {y_train.shape}')\n",
    "print(f'Test sample shape {X_test.shape}, targets shape {y_test.shape}')"
   ]
  },
  {
   "cell_type": "markdown",
   "metadata": {},
   "source": [
    "##### Classification on MNIST data\n",
    "\n",
    "Now, we will create a classification model and fit our training data"
   ]
  },
  {
   "cell_type": "code",
   "execution_count": 5,
   "metadata": {},
   "outputs": [
    {
     "name": "stdout",
     "output_type": "stream",
     "text": [
      "Training the model,it might take a while based on the tolerance level (tol, if it small, the training will be slow but result will be better)\n"
     ]
    },
    {
     "data": {
      "text/plain": [
       "LogisticRegression(solver='saga', tol=0.01)"
      ]
     },
     "execution_count": 5,
     "metadata": {},
     "output_type": "execute_result"
    }
   ],
   "source": [
    "### Create a multinomial logistic regression model which can be used in classification problem\n",
    "print(\"Training the model,it might take a while based on the tolerance level (tol, if it small, the training will be slow but result will be better)\")\n",
    "clf = LogisticRegression(solver='saga',tol=0.01)\n",
    "clf.fit(X_train,y_train)"
   ]
  },
  {
   "cell_type": "code",
   "execution_count": 6,
   "metadata": {},
   "outputs": [
    {
     "name": "stdout",
     "output_type": "stream",
     "text": [
      "[4 5 9 ... 0 3 6]\n"
     ]
    }
   ],
   "source": [
    "pred=clf.predict(X_test)\n",
    "print(pred)"
   ]
  },
  {
   "cell_type": "code",
   "execution_count": 7,
   "metadata": {},
   "outputs": [
    {
     "name": "stdout",
     "output_type": "stream",
     "text": [
      "0.9184\n",
      "0.9184\n"
     ]
    }
   ],
   "source": [
    "from sklearn import metrics\n",
    "print(metrics.accuracy_score(pred,y_test))\n",
    "print(clf.score(X_test, y_test))"
   ]
  },
  {
   "cell_type": "markdown",
   "metadata": {},
   "source": [
    "Moreover, using *StandardScaler*, we apply z-score normalization on the training and testing dataset. The following codes also train a multinomial logistic regression model. "
   ]
  },
  {
   "cell_type": "code",
   "execution_count": 8,
   "metadata": {},
   "outputs": [],
   "source": [
    "scaler = StandardScaler()\n",
    "X_train_new = scaler.fit_transform(X_train)\n",
    "X_test_new = scaler.transform(X_test)"
   ]
  },
  {
   "cell_type": "code",
   "execution_count": null,
   "metadata": {},
   "outputs": [
    {
     "name": "stdout",
     "output_type": "stream",
     "text": [
      "Training the model,it might take a while based on the tolerance level (tol, if it small, the training will be slow but result will be better)\n"
     ]
    }
   ],
   "source": [
    "print(\"Training the model,it might take a while based on the tolerance level (tol, if it small, the training will be slow but result will be better)\")\n",
    "clf_new = LogisticRegression(solver='saga',tol=0.01)\n",
    "clf_new.fit(X_train_new,y_train)"
   ]
  },
  {
   "cell_type": "code",
   "execution_count": null,
   "metadata": {},
   "outputs": [],
   "source": [
    "pred_new=clf_new.predict(X_test_new)"
   ]
  },
  {
   "cell_type": "code",
   "execution_count": null,
   "metadata": {},
   "outputs": [],
   "source": [
    "from sklearn import metrics\n",
    "print(metrics.accuracy_score(pred_new,y_test))\n",
    "print(clf_new.score(X_test_new, y_test))"
   ]
  },
  {
   "cell_type": "markdown",
   "metadata": {},
   "source": [
    "### scikit-learn guide\n",
    "\n",
    "##### supervised learning models and examples\n",
    "https://scikit-learn.org/stable/supervised_learning.html\n",
    "\n",
    "##### unsupervised learning models and examples\n",
    "https://scikit-learn.org/stable/unsupervised_learning.html\n",
    "\n",
    "##### Evaluation metrics\n",
    "https://scikit-learn.org/stable/modules/model_evaluation.html"
   ]
  },
  {
   "cell_type": "code",
   "execution_count": null,
   "metadata": {},
   "outputs": [],
   "source": []
  }
 ],
 "metadata": {
  "kernelspec": {
   "display_name": "Python 3",
   "language": "python",
   "name": "python3"
  },
  "language_info": {
   "codemirror_mode": {
    "name": "ipython",
    "version": 3
   },
   "file_extension": ".py",
   "mimetype": "text/x-python",
   "name": "python",
   "nbconvert_exporter": "python",
   "pygments_lexer": "ipython3",
   "version": "3.8.5"
  }
 },
 "nbformat": 4,
 "nbformat_minor": 4
}

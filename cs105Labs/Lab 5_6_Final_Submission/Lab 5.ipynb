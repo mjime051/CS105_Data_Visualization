{
 "cells": [
  {
   "cell_type": "code",
   "execution_count": 1,
   "metadata": {},
   "outputs": [],
   "source": [
    "#information\n",
    "# GPA data for each student\n",
    "# year of university for each student\n",
    "# Gender\n",
    "# Quarantine GPA\n",
    "# Online Lecture Attendence\n",
    "\n",
    "# What do we want to know from the data / motivating questions\n",
    "# Question 1: Is there a correlation between gender and year of education?\n",
    "# Question 2: Is there a correlation between Quarantine GPA and Online Lecture Attendence\n",
    "# Question 3: How are grades distributed in UCR?\n",
    "# Question 4: Do grades become more consistent the longer you are at university?\n",
    "\n",
    "# graphics hopefully done by thursday\n",
    "# graphic 1: bar graph of gender vs year of education\n",
    "# graphic 2: scatterplot of Hours spent on HW vs Hours spent on student Orgs\n",
    "# graphic 3: plot  of GPA distribution vs normal distribution - David\n",
    "# graphic 4: heat map of GPA and year - Matthew\n",
    "# graphic 5: tabulated std deviation of GPA by year\n",
    "\n",
    "# predictions\n",
    "# prediction 1: no expected correlation between gender and year of education [test null hypothesis]\n",
    "# prediction 2: expected correlation between Quarantine GPA and Online lecture attendence [test null hypothesis]\n",
    "# prediction 3: we expect GPAs to be distributed normally. [normal measure of central tendency]\n",
    "# prediction 4: we expect the spread of GPA to decrease as you spend more time in university [std deviation GPA correlated to year]\n",
    "\n",
    "# Tests to run\n",
    "# Chi squared correlation testing to test null hypothesis\n",
    "# test the fit of GPA distributions to the normal distribution to test central tendency\n",
    "# measure standard deviation of GPA per year to determine the change in GPA spread over time\n",
    "\n",
    "#make toy datasets with known outcomes to test veracity of each test. with  toy data (2 to 3 entries) and compute by hand"
   ]
  },
  {
   "cell_type": "code",
   "execution_count": 2,
   "metadata": {},
   "outputs": [
    {
     "data": {
      "text/html": [
       "<div>\n",
       "<style scoped>\n",
       "    .dataframe tbody tr th:only-of-type {\n",
       "        vertical-align: middle;\n",
       "    }\n",
       "\n",
       "    .dataframe tbody tr th {\n",
       "        vertical-align: top;\n",
       "    }\n",
       "\n",
       "    .dataframe thead th {\n",
       "        text-align: right;\n",
       "    }\n",
       "</style>\n",
       "<table border=\"1\" class=\"dataframe\">\n",
       "  <thead>\n",
       "    <tr style=\"text-align: right;\">\n",
       "      <th></th>\n",
       "      <th>Timestamp</th>\n",
       "      <th>What is your gender?</th>\n",
       "      <th>What is your ethnicity?</th>\n",
       "      <th>What academic year are you?</th>\n",
       "      <th>What is your major?</th>\n",
       "      <th>Student GPA? (If you don't know guestimate, ex. 3.5+)</th>\n",
       "      <th>After COVID did your GPA increase or decrease?</th>\n",
       "      <th>Number of units enrolled?</th>\n",
       "      <th>Have you attended UCR prior to Spring Quarter 2020?</th>\n",
       "      <th>How do you feel about your progress in academics so far?</th>\n",
       "      <th>...</th>\n",
       "      <th>Do you have a job during the pandemic?</th>\n",
       "      <th>Which streaming services were you subscribed to before the pandemic?</th>\n",
       "      <th>Approximately how much have you spent on streaming services per month before the pandemic?</th>\n",
       "      <th>Did you personally pay for the whole subscription?</th>\n",
       "      <th>If you did pay for the whole subscription, for which streaming services did you pay for (before the pandemic)?  If you did not pay for any services at all, please answer with \"None\".</th>\n",
       "      <th>Which streaming services are you subscribed to now?</th>\n",
       "      <th>Approximately how much have you spent on streaming services per month during the pandemic?</th>\n",
       "      <th>D0 you personally pay for the whole subscription?</th>\n",
       "      <th>If you did pay for the whole subscription, for which streaming services did you pay for (after the pandemic)? If you did not pay for any services at all, please answer with \"None\".</th>\n",
       "      <th>Have you started watching more Netflix, Hulu, Disney+, etc.?</th>\n",
       "    </tr>\n",
       "  </thead>\n",
       "  <tbody>\n",
       "    <tr>\n",
       "      <th>1</th>\n",
       "      <td>2021/01/30 12:38:43 PM PST</td>\n",
       "      <td>Male</td>\n",
       "      <td>Asian</td>\n",
       "      <td>Sophomore</td>\n",
       "      <td>Computer Science with Business Applications</td>\n",
       "      <td>3.3 - 3.69</td>\n",
       "      <td>Increase</td>\n",
       "      <td>13.0</td>\n",
       "      <td>Yes</td>\n",
       "      <td>3.0</td>\n",
       "      <td>...</td>\n",
       "      <td>Yes</td>\n",
       "      <td>Netflix</td>\n",
       "      <td>$10 or less</td>\n",
       "      <td>No, I use a family member's account</td>\n",
       "      <td>Netflix</td>\n",
       "      <td>Netflix</td>\n",
       "      <td>$10 or less</td>\n",
       "      <td>No, I use a family member's account</td>\n",
       "      <td>Netflix</td>\n",
       "      <td>1</td>\n",
       "    </tr>\n",
       "    <tr>\n",
       "      <th>2</th>\n",
       "      <td>2021/01/30 12:41:24 PM PST</td>\n",
       "      <td>Male</td>\n",
       "      <td>Asian</td>\n",
       "      <td>Sophomore</td>\n",
       "      <td>CSBA</td>\n",
       "      <td>3.7 - 4.0</td>\n",
       "      <td>Same</td>\n",
       "      <td>4.0</td>\n",
       "      <td>Yes</td>\n",
       "      <td>5.0</td>\n",
       "      <td>...</td>\n",
       "      <td>No</td>\n",
       "      <td>None</td>\n",
       "      <td>I did not own any subscriptions</td>\n",
       "      <td>Don't have a subscription</td>\n",
       "      <td>None</td>\n",
       "      <td>None</td>\n",
       "      <td>I do not own any subscriptions.</td>\n",
       "      <td>Don't have a subscription</td>\n",
       "      <td>None</td>\n",
       "      <td>3</td>\n",
       "    </tr>\n",
       "    <tr>\n",
       "      <th>3</th>\n",
       "      <td>2021/01/30 12:46:31 PM PST</td>\n",
       "      <td>Male</td>\n",
       "      <td>Asian</td>\n",
       "      <td>Sophomore</td>\n",
       "      <td>Computer Science</td>\n",
       "      <td>3.7 - 4.0</td>\n",
       "      <td>Decrease</td>\n",
       "      <td>16.0</td>\n",
       "      <td>Yes</td>\n",
       "      <td>3.0</td>\n",
       "      <td>...</td>\n",
       "      <td>No</td>\n",
       "      <td>Netflix;Hulu;Disney+</td>\n",
       "      <td>$21 to $30</td>\n",
       "      <td>No, I use a family member's account</td>\n",
       "      <td>Hulu, Showtime</td>\n",
       "      <td>Netflix;Hulu;Disney+</td>\n",
       "      <td>$21 to $30</td>\n",
       "      <td>No, I use a family member's account</td>\n",
       "      <td>Hulu, Showtime</td>\n",
       "      <td>4</td>\n",
       "    </tr>\n",
       "    <tr>\n",
       "      <th>4</th>\n",
       "      <td>2021/01/30 12:51:37 PM PST</td>\n",
       "      <td>Female</td>\n",
       "      <td>Asian</td>\n",
       "      <td>Sophomore</td>\n",
       "      <td>Computer Science</td>\n",
       "      <td>3.3 - 3.69</td>\n",
       "      <td>Increase</td>\n",
       "      <td>12.0</td>\n",
       "      <td>Yes</td>\n",
       "      <td>5.0</td>\n",
       "      <td>...</td>\n",
       "      <td>No</td>\n",
       "      <td>Netflix;Hulu</td>\n",
       "      <td>$21 to $30</td>\n",
       "      <td>No, I use a family member's account</td>\n",
       "      <td>None</td>\n",
       "      <td>None</td>\n",
       "      <td>I do not own any subscriptions.</td>\n",
       "      <td>No, I use a family member's account</td>\n",
       "      <td>None</td>\n",
       "      <td>5</td>\n",
       "    </tr>\n",
       "    <tr>\n",
       "      <th>5</th>\n",
       "      <td>2021/01/30 1:11:26 PM PST</td>\n",
       "      <td>Male</td>\n",
       "      <td>Asian</td>\n",
       "      <td>Sophomore</td>\n",
       "      <td>Computer Science</td>\n",
       "      <td>3.7 - 4.0</td>\n",
       "      <td>Same</td>\n",
       "      <td>18.0</td>\n",
       "      <td>Yes</td>\n",
       "      <td>4.0</td>\n",
       "      <td>...</td>\n",
       "      <td>No</td>\n",
       "      <td>Netflix</td>\n",
       "      <td>$10 or less</td>\n",
       "      <td>No, I use a family member's account</td>\n",
       "      <td>None</td>\n",
       "      <td>Netflix</td>\n",
       "      <td>$10 or less</td>\n",
       "      <td>No, I use a family member's account</td>\n",
       "      <td>None</td>\n",
       "      <td>2</td>\n",
       "    </tr>\n",
       "    <tr>\n",
       "      <th>...</th>\n",
       "      <td>...</td>\n",
       "      <td>...</td>\n",
       "      <td>...</td>\n",
       "      <td>...</td>\n",
       "      <td>...</td>\n",
       "      <td>...</td>\n",
       "      <td>...</td>\n",
       "      <td>...</td>\n",
       "      <td>...</td>\n",
       "      <td>...</td>\n",
       "      <td>...</td>\n",
       "      <td>...</td>\n",
       "      <td>...</td>\n",
       "      <td>...</td>\n",
       "      <td>...</td>\n",
       "      <td>...</td>\n",
       "      <td>...</td>\n",
       "      <td>...</td>\n",
       "      <td>...</td>\n",
       "      <td>...</td>\n",
       "      <td>...</td>\n",
       "    </tr>\n",
       "    <tr>\n",
       "      <th>62</th>\n",
       "      <td>2021/02/03 11:51:40 PM PST</td>\n",
       "      <td>Female</td>\n",
       "      <td>Asian</td>\n",
       "      <td>Senior/Senior+</td>\n",
       "      <td>CMDB</td>\n",
       "      <td>3.3 - 3.69</td>\n",
       "      <td>Increase</td>\n",
       "      <td>17.0</td>\n",
       "      <td>No</td>\n",
       "      <td>4.0</td>\n",
       "      <td>...</td>\n",
       "      <td>No</td>\n",
       "      <td>Netflix</td>\n",
       "      <td>$10 or less</td>\n",
       "      <td>Yes, I paid for the whole subscription</td>\n",
       "      <td>Netflix</td>\n",
       "      <td>Netflix;Hulu;Amazon prime, CBS</td>\n",
       "      <td>$11 to $20</td>\n",
       "      <td>Yes, I pay for the whole subscription</td>\n",
       "      <td>All mentioned above</td>\n",
       "      <td>Yep</td>\n",
       "    </tr>\n",
       "    <tr>\n",
       "      <th>63</th>\n",
       "      <td>2021/02/04 10:35:52 AM PST</td>\n",
       "      <td>Male</td>\n",
       "      <td>Hispanic or Latino or Spanish Origin</td>\n",
       "      <td>Senior/Senior+</td>\n",
       "      <td>CS</td>\n",
       "      <td>3.0 - 3.29</td>\n",
       "      <td>Increase</td>\n",
       "      <td>12.0</td>\n",
       "      <td>Yes</td>\n",
       "      <td>3.0</td>\n",
       "      <td>...</td>\n",
       "      <td>No</td>\n",
       "      <td>Netflix;Hulu;HBO Max;Disney+;Twitch</td>\n",
       "      <td>$31+</td>\n",
       "      <td>Little of everything. Sometimes it’s split, so...</td>\n",
       "      <td>Hulu, Twitch</td>\n",
       "      <td>Netflix;Hulu;HBO Max;Disney+;Twitch</td>\n",
       "      <td>$31+</td>\n",
       "      <td>Little of everything. Sometimes it’s split, so...</td>\n",
       "      <td>All</td>\n",
       "      <td>Nope, about the same</td>\n",
       "    </tr>\n",
       "    <tr>\n",
       "      <th>64</th>\n",
       "      <td>2021/02/04 1:31:23 PM PST</td>\n",
       "      <td>Male</td>\n",
       "      <td>Asian</td>\n",
       "      <td>Sophomore</td>\n",
       "      <td>Computer Science with Business Applications</td>\n",
       "      <td>3.3 - 3.69</td>\n",
       "      <td>Same</td>\n",
       "      <td>13.0</td>\n",
       "      <td>Yes</td>\n",
       "      <td>2.0</td>\n",
       "      <td>...</td>\n",
       "      <td>No</td>\n",
       "      <td>Netflix;Hulu;Disney+</td>\n",
       "      <td>$10 or less</td>\n",
       "      <td>No, I use a family member's account</td>\n",
       "      <td>spotify</td>\n",
       "      <td>Netflix;Hulu;Disney+;spotify</td>\n",
       "      <td>$10 or less</td>\n",
       "      <td>No, I use a family member's account</td>\n",
       "      <td>None</td>\n",
       "      <td>Yes</td>\n",
       "    </tr>\n",
       "    <tr>\n",
       "      <th>65</th>\n",
       "      <td>2021/02/04 1:46:27 PM PST</td>\n",
       "      <td>Female</td>\n",
       "      <td>Asian;Native Hawaiian or Pacific Islander</td>\n",
       "      <td>Freshman</td>\n",
       "      <td>Material Science and Engineering</td>\n",
       "      <td>2.7 - 2.99</td>\n",
       "      <td>Same</td>\n",
       "      <td>18.0</td>\n",
       "      <td>No</td>\n",
       "      <td>4.0</td>\n",
       "      <td>...</td>\n",
       "      <td>No</td>\n",
       "      <td>Netflix;Hulu;HBO Max;Disney+</td>\n",
       "      <td>$31+</td>\n",
       "      <td>No, I use a family member's account</td>\n",
       "      <td>None</td>\n",
       "      <td>Netflix;Hulu;HBO Max;Disney+</td>\n",
       "      <td>$31+</td>\n",
       "      <td>No, I use a family member's account</td>\n",
       "      <td>None</td>\n",
       "      <td>No</td>\n",
       "    </tr>\n",
       "    <tr>\n",
       "      <th>66</th>\n",
       "      <td>2021/02/04 2:13:32 PM PST</td>\n",
       "      <td>Male</td>\n",
       "      <td>Asian</td>\n",
       "      <td>Senior/Senior+</td>\n",
       "      <td>Computer Science</td>\n",
       "      <td>3.0 - 3.29</td>\n",
       "      <td>Increase</td>\n",
       "      <td>13.0</td>\n",
       "      <td>Yes</td>\n",
       "      <td>5.0</td>\n",
       "      <td>...</td>\n",
       "      <td>No</td>\n",
       "      <td>Netflix</td>\n",
       "      <td>$11 to $20</td>\n",
       "      <td>Yes, I paid for the whole subscription</td>\n",
       "      <td>Netflix</td>\n",
       "      <td>Netflix;Hulu</td>\n",
       "      <td>$11 to $20</td>\n",
       "      <td>No, I split the cost with someone</td>\n",
       "      <td>None</td>\n",
       "      <td>Yes</td>\n",
       "    </tr>\n",
       "  </tbody>\n",
       "</table>\n",
       "<p>66 rows × 64 columns</p>\n",
       "</div>"
      ],
      "text/plain": [
       "                     Timestamp What is your gender?  \\\n",
       "1   2021/01/30 12:38:43 PM PST                 Male   \n",
       "2   2021/01/30 12:41:24 PM PST                 Male   \n",
       "3   2021/01/30 12:46:31 PM PST                 Male   \n",
       "4   2021/01/30 12:51:37 PM PST               Female   \n",
       "5    2021/01/30 1:11:26 PM PST                 Male   \n",
       "..                         ...                  ...   \n",
       "62  2021/02/03 11:51:40 PM PST               Female   \n",
       "63  2021/02/04 10:35:52 AM PST                 Male   \n",
       "64   2021/02/04 1:31:23 PM PST                 Male   \n",
       "65   2021/02/04 1:46:27 PM PST               Female   \n",
       "66   2021/02/04 2:13:32 PM PST                 Male   \n",
       "\n",
       "                      What is your ethnicity? What academic year are you?  \\\n",
       "1                                       Asian                   Sophomore   \n",
       "2                                       Asian                   Sophomore   \n",
       "3                                       Asian                   Sophomore   \n",
       "4                                       Asian                   Sophomore   \n",
       "5                                       Asian                   Sophomore   \n",
       "..                                        ...                         ...   \n",
       "62                                      Asian              Senior/Senior+   \n",
       "63       Hispanic or Latino or Spanish Origin              Senior/Senior+   \n",
       "64                                      Asian                   Sophomore   \n",
       "65  Asian;Native Hawaiian or Pacific Islander                    Freshman   \n",
       "66                                      Asian              Senior/Senior+   \n",
       "\n",
       "                            What is your major?  \\\n",
       "1   Computer Science with Business Applications   \n",
       "2                                          CSBA   \n",
       "3                              Computer Science   \n",
       "4                              Computer Science   \n",
       "5                              Computer Science   \n",
       "..                                          ...   \n",
       "62                                         CMDB   \n",
       "63                                           CS   \n",
       "64  Computer Science with Business Applications   \n",
       "65             Material Science and Engineering   \n",
       "66                             Computer Science   \n",
       "\n",
       "   Student GPA? (If you don't know guestimate, ex. 3.5+)  \\\n",
       "1                                          3.3 - 3.69      \n",
       "2                                           3.7 - 4.0      \n",
       "3                                           3.7 - 4.0      \n",
       "4                                          3.3 - 3.69      \n",
       "5                                           3.7 - 4.0      \n",
       "..                                                ...      \n",
       "62                                         3.3 - 3.69      \n",
       "63                                         3.0 - 3.29      \n",
       "64                                         3.3 - 3.69      \n",
       "65                                         2.7 - 2.99      \n",
       "66                                         3.0 - 3.29      \n",
       "\n",
       "   After COVID did your GPA increase or decrease?  Number of units enrolled?   \\\n",
       "1                                        Increase                        13.0   \n",
       "2                                            Same                         4.0   \n",
       "3                                        Decrease                        16.0   \n",
       "4                                        Increase                        12.0   \n",
       "5                                            Same                        18.0   \n",
       "..                                            ...                         ...   \n",
       "62                                       Increase                        17.0   \n",
       "63                                       Increase                        12.0   \n",
       "64                                           Same                        13.0   \n",
       "65                                           Same                        18.0   \n",
       "66                                       Increase                        13.0   \n",
       "\n",
       "   Have you attended UCR prior to Spring Quarter 2020?  \\\n",
       "1                                                 Yes    \n",
       "2                                                 Yes    \n",
       "3                                                 Yes    \n",
       "4                                                 Yes    \n",
       "5                                                 Yes    \n",
       "..                                                ...    \n",
       "62                                                 No    \n",
       "63                                                Yes    \n",
       "64                                                Yes    \n",
       "65                                                 No    \n",
       "66                                                Yes    \n",
       "\n",
       "    How do you feel about your progress in academics so far?  ...  \\\n",
       "1                                                 3.0         ...   \n",
       "2                                                 5.0         ...   \n",
       "3                                                 3.0         ...   \n",
       "4                                                 5.0         ...   \n",
       "5                                                 4.0         ...   \n",
       "..                                                ...         ...   \n",
       "62                                                4.0         ...   \n",
       "63                                                3.0         ...   \n",
       "64                                                2.0         ...   \n",
       "65                                                4.0         ...   \n",
       "66                                                5.0         ...   \n",
       "\n",
       "   Do you have a job during the pandemic?  \\\n",
       "1                                     Yes   \n",
       "2                                      No   \n",
       "3                                      No   \n",
       "4                                      No   \n",
       "5                                      No   \n",
       "..                                    ...   \n",
       "62                                     No   \n",
       "63                                     No   \n",
       "64                                     No   \n",
       "65                                     No   \n",
       "66                                     No   \n",
       "\n",
       "   Which streaming services were you subscribed to before the pandemic?  \\\n",
       "1                                             Netflix                     \n",
       "2                                                None                     \n",
       "3                                Netflix;Hulu;Disney+                     \n",
       "4                                        Netflix;Hulu                     \n",
       "5                                             Netflix                     \n",
       "..                                                ...                     \n",
       "62                                            Netflix                     \n",
       "63                Netflix;Hulu;HBO Max;Disney+;Twitch                     \n",
       "64                               Netflix;Hulu;Disney+                     \n",
       "65                       Netflix;Hulu;HBO Max;Disney+                     \n",
       "66                                            Netflix                     \n",
       "\n",
       "   Approximately how much have you spent on streaming services per month before the pandemic?  \\\n",
       "1                                         $10 or less                                           \n",
       "2                     I did not own any subscriptions                                           \n",
       "3                                          $21 to $30                                           \n",
       "4                                          $21 to $30                                           \n",
       "5                                         $10 or less                                           \n",
       "..                                                ...                                           \n",
       "62                                        $10 or less                                           \n",
       "63                                               $31+                                           \n",
       "64                                        $10 or less                                           \n",
       "65                                               $31+                                           \n",
       "66                                         $11 to $20                                           \n",
       "\n",
       "   Did you personally pay for the whole subscription?  \\\n",
       "1                 No, I use a family member's account   \n",
       "2                           Don't have a subscription   \n",
       "3                 No, I use a family member's account   \n",
       "4                 No, I use a family member's account   \n",
       "5                 No, I use a family member's account   \n",
       "..                                                ...   \n",
       "62             Yes, I paid for the whole subscription   \n",
       "63  Little of everything. Sometimes it’s split, so...   \n",
       "64                No, I use a family member's account   \n",
       "65                No, I use a family member's account   \n",
       "66             Yes, I paid for the whole subscription   \n",
       "\n",
       "   If you did pay for the whole subscription, for which streaming services did you pay for (before the pandemic)?  If you did not pay for any services at all, please answer with \"None\".  \\\n",
       "1                                             Netflix                                                                                                                                       \n",
       "2                                                None                                                                                                                                       \n",
       "3                                      Hulu, Showtime                                                                                                                                       \n",
       "4                                                None                                                                                                                                       \n",
       "5                                                None                                                                                                                                       \n",
       "..                                                ...                                                                                                                                       \n",
       "62                                            Netflix                                                                                                                                       \n",
       "63                                       Hulu, Twitch                                                                                                                                       \n",
       "64                                            spotify                                                                                                                                       \n",
       "65                                               None                                                                                                                                       \n",
       "66                                            Netflix                                                                                                                                       \n",
       "\n",
       "   Which streaming services are you subscribed to now?  \\\n",
       "1                                             Netflix    \n",
       "2                                                None    \n",
       "3                                Netflix;Hulu;Disney+    \n",
       "4                                                None    \n",
       "5                                             Netflix    \n",
       "..                                                ...    \n",
       "62                     Netflix;Hulu;Amazon prime, CBS    \n",
       "63                Netflix;Hulu;HBO Max;Disney+;Twitch    \n",
       "64                       Netflix;Hulu;Disney+;spotify    \n",
       "65                       Netflix;Hulu;HBO Max;Disney+    \n",
       "66                                       Netflix;Hulu    \n",
       "\n",
       "   Approximately how much have you spent on streaming services per month during the pandemic?  \\\n",
       "1                                         $10 or less                                           \n",
       "2                     I do not own any subscriptions.                                           \n",
       "3                                          $21 to $30                                           \n",
       "4                     I do not own any subscriptions.                                           \n",
       "5                                         $10 or less                                           \n",
       "..                                                ...                                           \n",
       "62                                         $11 to $20                                           \n",
       "63                                               $31+                                           \n",
       "64                                        $10 or less                                           \n",
       "65                                               $31+                                           \n",
       "66                                         $11 to $20                                           \n",
       "\n",
       "    D0 you personally pay for the whole subscription?  \\\n",
       "1                 No, I use a family member's account   \n",
       "2                           Don't have a subscription   \n",
       "3                 No, I use a family member's account   \n",
       "4                 No, I use a family member's account   \n",
       "5                 No, I use a family member's account   \n",
       "..                                                ...   \n",
       "62              Yes, I pay for the whole subscription   \n",
       "63  Little of everything. Sometimes it’s split, so...   \n",
       "64                No, I use a family member's account   \n",
       "65                No, I use a family member's account   \n",
       "66                  No, I split the cost with someone   \n",
       "\n",
       "   If you did pay for the whole subscription, for which streaming services did you pay for (after the pandemic)? If you did not pay for any services at all, please answer with \"None\".  \\\n",
       "1                                             Netflix                                                                                                                                     \n",
       "2                                                None                                                                                                                                     \n",
       "3                                      Hulu, Showtime                                                                                                                                     \n",
       "4                                                None                                                                                                                                     \n",
       "5                                                None                                                                                                                                     \n",
       "..                                                ...                                                                                                                                     \n",
       "62                                All mentioned above                                                                                                                                     \n",
       "63                                                All                                                                                                                                     \n",
       "64                                               None                                                                                                                                     \n",
       "65                                               None                                                                                                                                     \n",
       "66                                               None                                                                                                                                     \n",
       "\n",
       "   Have you started watching more Netflix, Hulu, Disney+, etc.?  \n",
       "1                                                   1            \n",
       "2                                                   3            \n",
       "3                                                   4            \n",
       "4                                                   5            \n",
       "5                                                   2            \n",
       "..                                                ...            \n",
       "62                                                Yep            \n",
       "63                               Nope, about the same            \n",
       "64                                                Yes            \n",
       "65                                                 No            \n",
       "66                                                Yes            \n",
       "\n",
       "[66 rows x 64 columns]"
      ]
     },
     "metadata": {},
     "output_type": "display_data"
    }
   ],
   "source": [
    "import pandas as pd\n",
    "df = pd.read_csv(\"CS105_Survey.csv\") # import the data from the survey\n",
    "df = df.drop(0) # NOTE: this top column had lots of junk data, we believe it is leftover from an old survey and is thus dropped\n",
    "df.drop (df.columns[[64,65,66,67,68,69,70,71,72,73,74,75,76]],axis = 1,inplace = True) #remove empty columns associated with junk entry\n",
    "display(df) # verify successful import"
   ]
  },
  {
   "cell_type": "markdown",
   "metadata": {},
   "source": [
    "**What information do we have?**"
   ]
  },
  {
   "cell_type": "markdown",
   "metadata": {},
   "source": [
    "We have information like the GPA, the academic year, gender, quarantine GPA, and online lecture attendance of each student."
   ]
  },
  {
   "cell_type": "markdown",
   "metadata": {},
   "source": [
    "**What do we want to know from the data?**"
   ]
  },
  {
   "cell_type": "markdown",
   "metadata": {},
   "source": [
    "Is there a correlation between gender and year of education?"
   ]
  },
  {
   "cell_type": "code",
   "execution_count": 3,
   "metadata": {},
   "outputs": [
    {
     "data": {
      "text/plain": [
       "<matplotlib.legend.Legend at 0x27edc837ac0>"
      ]
     },
     "execution_count": 3,
     "metadata": {},
     "output_type": "execute_result"
    },
    {
     "data": {
      "image/png": "[encoded data removed]",
      "text/plain": [
       "<Figure size 432x288 with 1 Axes>"
      ]
     },
     "metadata": {
      "needs_background": "light"
     },
     "output_type": "display_data"
    }
   ],
   "source": [
    "gender_and_yearOfEducation_df = df[[\"What is your gender?\", \"What academic year are you?\"]]\n",
    "gender_and_yearOfEducation_groupby = gender_and_yearOfEducation_df.groupby([\"What is your gender?\", \"What academic year are you?\"])[\"What academic year are you?\"].count()\n",
    "gender_and_yearOfEducation_groupby\n",
    "\n",
    "gender_and_yearOfEducation_groupby_df = pd.DataFrame(gender_and_yearOfEducation_groupby)\n",
    "gender_and_yearOfEducation_groupby_df.columns = [\"Academic year counts\"]\n",
    "gender_and_yearOfEducation_groupby_df\n",
    "\n",
    "gender_and_yearOfEducation_barGraph = gender_and_yearOfEducation_groupby_df.plot.barh(rot = 0, grid = True, color = \"maroon\")\n",
    "gender_and_yearOfEducation_barGraph.set_facecolor(\"gray\")\n",
    "gender_and_yearOfEducation_barGraph.set_title(\"Year of Education Counts based on Gender\")\n",
    "gender_and_yearOfEducation_barGraph.set_xlabel(\"Counts based on Gender and Academic Year\")\n",
    "gender_and_yearOfEducation_barGraph.set_ylabel(\"Gender and Academic Year\")\n",
    "gender_and_yearOfEducation_barGraph.legend(loc = \"center left\", bbox_to_anchor = (1.0, 0.5))"
   ]
  },
  {
   "cell_type": "code",
   "execution_count": 4,
   "metadata": {},
   "outputs": [
    {
     "data": {
      "text/html": [
       "<div>\n",
       "<style scoped>\n",
       "    .dataframe tbody tr th:only-of-type {\n",
       "        vertical-align: middle;\n",
       "    }\n",
       "\n",
       "    .dataframe tbody tr th {\n",
       "        vertical-align: top;\n",
       "    }\n",
       "\n",
       "    .dataframe thead th {\n",
       "        text-align: right;\n",
       "    }\n",
       "</style>\n",
       "<table border=\"1\" class=\"dataframe\">\n",
       "  <thead>\n",
       "    <tr style=\"text-align: right;\">\n",
       "      <th>What academic year are you?</th>\n",
       "      <th>Freshman</th>\n",
       "      <th>Sophomore</th>\n",
       "      <th>Junior</th>\n",
       "      <th>Senior/Senior+</th>\n",
       "    </tr>\n",
       "    <tr>\n",
       "      <th>What is your gender?</th>\n",
       "      <th></th>\n",
       "      <th></th>\n",
       "      <th></th>\n",
       "      <th></th>\n",
       "    </tr>\n",
       "  </thead>\n",
       "  <tbody>\n",
       "    <tr>\n",
       "      <th>Female</th>\n",
       "      <td>3</td>\n",
       "      <td>9</td>\n",
       "      <td>2</td>\n",
       "      <td>5</td>\n",
       "    </tr>\n",
       "    <tr>\n",
       "      <th>Male</th>\n",
       "      <td>0</td>\n",
       "      <td>26</td>\n",
       "      <td>10</td>\n",
       "      <td>9</td>\n",
       "    </tr>\n",
       "    <tr>\n",
       "      <th>Prefer not to say</th>\n",
       "      <td>0</td>\n",
       "      <td>2</td>\n",
       "      <td>0</td>\n",
       "      <td>0</td>\n",
       "    </tr>\n",
       "    <tr>\n",
       "      <th>All</th>\n",
       "      <td>3</td>\n",
       "      <td>37</td>\n",
       "      <td>12</td>\n",
       "      <td>14</td>\n",
       "    </tr>\n",
       "  </tbody>\n",
       "</table>\n",
       "</div>"
      ],
      "text/plain": [
       "What academic year are you?  Freshman  Sophomore  Junior  Senior/Senior+\n",
       "What is your gender?                                                    \n",
       "Female                              3          9       2               5\n",
       "Male                                0         26      10               9\n",
       "Prefer not to say                   0          2       0               0\n",
       "All                                 3         37      12              14"
      ]
     },
     "metadata": {},
     "output_type": "display_data"
    },
    {
     "name": "stdout",
     "output_type": "stream",
     "text": [
      "\n",
      "Null hypothesis: No correlation between gender and year of education.\n",
      "Significance level: 0.05\n"
     ]
    }
   ],
   "source": [
    "gender_and_yearOfEducation_groupby\n",
    "\n",
    "crosstab = pd.crosstab(df[\"What is your gender?\"], df[\"What academic year are you?\"], margins = True)[['Freshman', 'Sophomore','Junior', 'Senior/Senior+']]\n",
    "display(crosstab)\n",
    "\n",
    "print(\"\\nNull hypothesis: No correlation between gender and year of education.\")\n",
    "print(\"Significance level: 0.05\")"
   ]
  },
  {
   "cell_type": "code",
   "execution_count": 14,
   "metadata": {},
   "outputs": [
    {
     "name": "stdout",
     "output_type": "stream",
     "text": [
      "Expected Values: \n"
     ]
    },
    {
     "data": {
      "text/html": [
       "<div>\n",
       "<style scoped>\n",
       "    .dataframe tbody tr th:only-of-type {\n",
       "        vertical-align: middle;\n",
       "    }\n",
       "\n",
       "    .dataframe tbody tr th {\n",
       "        vertical-align: top;\n",
       "    }\n",
       "\n",
       "    .dataframe thead th {\n",
       "        text-align: right;\n",
       "    }\n",
       "</style>\n",
       "<table border=\"1\" class=\"dataframe\">\n",
       "  <thead>\n",
       "    <tr style=\"text-align: right;\">\n",
       "      <th></th>\n",
       "      <th>0</th>\n",
       "      <th>1</th>\n",
       "      <th>2</th>\n",
       "      <th>3</th>\n",
       "    </tr>\n",
       "  </thead>\n",
       "  <tbody>\n",
       "    <tr>\n",
       "      <th>0</th>\n",
       "      <td>0.863636</td>\n",
       "      <td>10.651515</td>\n",
       "      <td>3.454545</td>\n",
       "      <td>4.030303</td>\n",
       "    </tr>\n",
       "    <tr>\n",
       "      <th>1</th>\n",
       "      <td>2.045455</td>\n",
       "      <td>25.227273</td>\n",
       "      <td>8.181818</td>\n",
       "      <td>9.545455</td>\n",
       "    </tr>\n",
       "    <tr>\n",
       "      <th>2</th>\n",
       "      <td>0.090909</td>\n",
       "      <td>1.121212</td>\n",
       "      <td>0.363636</td>\n",
       "      <td>0.424242</td>\n",
       "    </tr>\n",
       "  </tbody>\n",
       "</table>\n",
       "</div>"
      ],
      "text/plain": [
       "          0          1         2         3\n",
       "0  0.863636  10.651515  3.454545  4.030303\n",
       "1  2.045455  25.227273  8.181818  9.545455\n",
       "2  0.090909   1.121212  0.363636  0.424242"
      ]
     },
     "metadata": {},
     "output_type": "display_data"
    },
    {
     "name": "stdout",
     "output_type": "stream",
     "text": [
      "\n",
      "Degrees of Freedom:  6\n",
      "P-value:  0.10662800538750626\n",
      "Chi-squared value:  10.458407279459912\n",
      "\n",
      "With  6  degrees of freedom and our test statistic of  10.458407279459912 , our p-value is  0.10662800538750626 . \n",
      "This means our p-value is greater than our significance level of 5%, meaning we fail to reject the null hypothesis\n",
      "and there is no correlation between gender and year of education.\n"
     ]
    }
   ],
   "source": [
    "from scipy import stats\n",
    "crosstab = pd.crosstab(df[\"What is your gender?\"], df[\"What academic year are you?\"], margins = False)[['Freshman', 'Sophomore','Junior', 'Senior/Senior+']]\n",
    "\n",
    "chi_squared = stats.chi2_contingency(crosstab)\n",
    "print(\"Expected Values: \")\n",
    "display(pd.DataFrame(chi_squared[3]))\n",
    "\n",
    "print('\\nDegrees of Freedom: ', chi_squared[2])\n",
    "print('P-value: ', chi_squared[1])\n",
    "print('Chi-squared value: ', chi_squared[0])\n",
    "\n",
    "print(\"\\nWith \", chi_squared[2], \" degrees of freedom and our test statistic of \", chi_squared[0], \", our p-value is \"\n",
    "          , chi_squared[1], \". \")\n",
    "if chi_squared[1] > 0.05:\n",
    "    print(\"This means our p-value is greater than our significance level of 5%, meaning we fail to reject the null hypothesis\") \n",
    "    print(\"and there is no correlation between gender and year of education.\")\n",
    "else:\n",
    "    print(\"This means our p-value is less than our significance level of 5%, meaning we can reject the null hypothesis\")\n",
    "    print(\"and there is a correlation between gender and year of education.\")"
   ]
  },
  {
   "cell_type": "markdown",
   "metadata": {},
   "source": [
    "**Is there a correlation between time spent on HW and time spent in student orgs?**"
   ]
  },
  {
   "cell_type": "code",
   "execution_count": 5,
   "metadata": {},
   "outputs": [
    {
     "data": {
      "image/png": "[encoded data removed]",
      "text/plain": [
       "<Figure size 432x288 with 1 Axes>"
      ]
     },
     "metadata": {
      "needs_background": "light"
     },
     "output_type": "display_data"
    }
   ],
   "source": [
    "# imports\n",
    "%matplotlib inline\n",
    "import numpy as np\n",
    "import seaborn as sns\n",
    "import matplotlib.pyplot as plt\n",
    "from scipy.stats import gaussian_kde\n",
    "\n",
    "# Preparation for Hours on Orgs vs. Hours on HW\n",
    "survey_df = pd.read_csv(\"Revised_Survey.csv\")\n",
    "all_questions = survey_df.columns[:-13]\n",
    "hours_on_orgs_identifier = all_questions[13]\n",
    "hours_on_hw_identifier = all_questions[15]\n",
    "graphic2_df = survey_df[[hours_on_orgs_identifier, hours_on_hw_identifier]]\n",
    "\n",
    "# Calculate the point density\n",
    "x_col = graphic2_df[hours_on_orgs_identifier].fillna(0)\n",
    "y_col = graphic2_df[hours_on_hw_identifier].fillna(0)\n",
    "graphic2_df.fillna(0)\n",
    "xy = np.vstack([x_col,y_col])\n",
    "z = gaussian_kde(xy)(xy)\n",
    "z = z[1:]\n",
    "\n",
    "# graph preparation\n",
    "# plt.figure(figsize=(15, 10))\n",
    "ax = sns.scatterplot(data=graphic2_df, x=hours_on_orgs_identifier, y=hours_on_hw_identifier, c=z, s=150000 * z)\n",
    "\n",
    "# graph config\n",
    "ax.set()\n",
    "ax.set_title(\"Density/Scale Scatterplot of\\nTime spent on HW vs. Time spent on Orgs\", size=20, pad=30)\n",
    "ax.set_xlabel(\"Hours on Orgs\", size=17, labelpad=22)\n",
    "ax.set_ylabel(\"Hours on HW\", size=17, labelpad=22)\n",
    "ax.tick_params(axis='x', labelsize=12, rotation=0)\n",
    "ax.tick_params(axis='y', labelsize=12, rotation=0)"
   ]
  },
  {
   "cell_type": "code",
   "execution_count": 6,
   "metadata": {},
   "outputs": [
    {
     "data": {
      "image/png": "[encoded data removed]",
      "text/plain": [
       "<Figure size 432x288 with 1 Axes>"
      ]
     },
     "metadata": {
      "needs_background": "light"
     },
     "output_type": "display_data"
    }
   ],
   "source": [
    "# toy dataset\n",
    "from sklearn.datasets import make_regression\n",
    "\n",
    "# generate toy2 regression dataset\n",
    "toy2_org_hours, toy2_hw_hours = make_regression(n_samples=1000, n_features=1, noise=10)\n",
    "toy2_org_hours = np.interp(toy2_org_hours, (toy2_org_hours.min(), toy2_org_hours.max()), (0, 30))\n",
    "toy2_hw_hours = np.interp(toy2_hw_hours, (toy2_hw_hours.min(), toy2_hw_hours.max()), (0, 30))\n",
    "toy2_data = {'Time Spent on HW': toy2_hw_hours.flatten(), 'Time Spent on Orgs': toy2_org_hours.flatten()}\n",
    "toy2_df = pd.DataFrame(toy2_data)\n",
    "\n",
    "# alternative with csv\n",
    "# toy2_df = pd.read_csv(\"toy2.csv\")\n",
    "\n",
    "# produce identifiers\n",
    "hours_on_orgs_identifier = toy2_df.columns[0] \n",
    "hours_on_hw_identifier = toy2_df.columns[1]\n",
    "\n",
    "# Calculate the point density\n",
    "x_col = toy2_df[hours_on_orgs_identifier].fillna(0)\n",
    "y_col = toy2_df[hours_on_hw_identifier].fillna(0)\n",
    "toy2_df.fillna(0)\n",
    "xy = np.vstack([x_col,y_col])\n",
    "z = gaussian_kde(xy)(xy)\n",
    "\n",
    "# graph preparation\n",
    "# plt.figure(figsize=(15, 10))\n",
    "ax = sns.scatterplot(data=toy2_df, x=toy2_df[hours_on_orgs_identifier], y=toy2_df[hours_on_hw_identifier], c=z, s= 10000 * z)\n",
    "\n",
    "# toy dataset print\n",
    "# ax = sns.scatterplot(data=toy2_df, x=toy2_df[hours_on_orgs_identifier], y=toy2_df[hours_on_hw_identifier], c=z, s= 100000 * z)\n",
    "\n",
    "# graph config\n",
    "ax.set()\n",
    "ax.set_title(\"Toy Dataset Scatterplot\\nTime spent on HW vs. Time spent on Orgs\", size=20, pad=30)\n",
    "ax.set_xlabel(\"Hours on Orgs\", size=17, labelpad=22)\n",
    "ax.set_ylabel(\"Hours on HW\", size=17, labelpad=22)\n",
    "ax.tick_params(axis='x', labelsize=15, rotation=0)\n",
    "ax.tick_params(axis='y', labelsize=15, rotation=0)"
   ]
  },
  {
   "cell_type": "markdown",
   "metadata": {},
   "source": [
    "**How are grades distributed in UCR?**"
   ]
  },
  {
   "cell_type": "code",
   "execution_count": 7,
   "metadata": {},
   "outputs": [
    {
     "data": {
      "text/plain": [
       "\"We can see the counts of GPA's for students overall and by year\""
      ]
     },
     "metadata": {},
     "output_type": "display_data"
    },
    {
     "data": {
      "text/plain": [
       "<AxesSubplot:>"
      ]
     },
     "metadata": {},
     "output_type": "display_data"
    },
    {
     "data": {
      "image/png": "[encoded data removed]",
      "text/plain": [
       "<Figure size 432x288 with 1 Axes>"
      ]
     },
     "metadata": {
      "needs_background": "light"
     },
     "output_type": "display_data"
    }
   ],
   "source": [
    "g = df[\"Student GPA? (If you don't know guestimate, ex. 3.5+)\"].value_counts().plot.bar()\n",
    "\n",
    "display(\"We can see the counts of GPA's for students overall and by year\",g)"
   ]
  },
  {
   "cell_type": "code",
   "execution_count": 8,
   "metadata": {},
   "outputs": [
    {
     "data": {
      "text/plain": [
       "'This leads to the following density'"
      ]
     },
     "metadata": {},
     "output_type": "display_data"
    },
    {
     "data": {
      "text/plain": [
       "<AxesSubplot:>"
      ]
     },
     "metadata": {},
     "output_type": "display_data"
    },
    {
     "data": {
      "image/png": "[encoded data removed]",
      "text/plain": [
       "<Figure size 432x288 with 1 Axes>"
      ]
     },
     "metadata": {
      "needs_background": "light"
     },
     "output_type": "display_data"
    }
   ],
   "source": [
    "df3 = df.replace({\"2.3 - 2.69\":2.5,\"2.7 - 2.99\":2.85,\"3.0 - 3.29\":3.15,\"3.3 - 3.69\":3.45,\"3.7 - 4.0\":3.85})\n",
    "gd = df3[\"Student GPA? (If you don't know guestimate, ex. 3.5+)\"].value_counts()/df3.value_counts().sum()\n",
    "\n",
    "display(\"This leads to the following density\",gd.plot())"
   ]
  },
  {
   "cell_type": "code",
   "execution_count": 9,
   "metadata": {},
   "outputs": [
    {
     "name": "stdout",
     "output_type": "stream",
     "text": [
      "A normal distribution about a GPA of 2.0 or a C average such that each letter up is a standard deviation above and that each letter down is a standard deviation below we find the following density\n"
     ]
    },
    {
     "data": {
      "image/png": "[encoded data removed]",
      "text/plain": [
       "<Figure size 432x288 with 1 Axes>"
      ]
     },
     "metadata": {
      "needs_background": "light"
     },
     "output_type": "display_data"
    }
   ],
   "source": [
    "import matplotlib.pyplot as plt\n",
    "import numpy as np\n",
    "import scipy.stats as stats\n",
    "import math\n",
    "s = \"A normal distribution about a GPA of 2.0 or a C average such that each letter up is a standard deviation above and that each letter down is a standard deviation below we find the following density\"\n",
    "mu = 2\n",
    "variance = 1\n",
    "sigma = math.sqrt(variance)\n",
    "x = np.linspace(mu - 2*sigma, mu + 2*sigma, 53)\n",
    "plt.plot(x, stats.norm.pdf(x, mu, sigma))\n",
    "print(s)\n",
    "plt.show()"
   ]
  },
  {
   "cell_type": "code",
   "execution_count": 10,
   "metadata": {},
   "outputs": [
    {
     "name": "stdout",
     "output_type": "stream",
     "text": [
      "Here we see a large discrepancy betweent the normal distribution and the distribution of GPAs among the students. We must remember though that our sample does not account for any students that failed any prerequisite class.\n"
     ]
    },
    {
     "data": {
      "image/png": "[encoded data removed]",
      "text/plain": [
       "<Figure size 432x288 with 1 Axes>"
      ]
     },
     "metadata": {
      "needs_background": "light"
     },
     "output_type": "display_data"
    }
   ],
   "source": [
    "gd.plot()\n",
    "plt.plot(x, stats.norm.pdf(x, mu, sigma))\n",
    "print(\"Here we see a large discrepancy betweent the normal distribution and the distribution of GPAs among the students. We must remember though that our sample does not account for any students that failed any prerequisite class.\")\n",
    "plt.show()"
   ]
  },
  {
   "cell_type": "code",
   "execution_count": 11,
   "metadata": {
    "scrolled": true
   },
   "outputs": [
    {
     "name": "stdout",
     "output_type": "stream",
     "text": [
      "Assuming that each class you take removes the bottom half of the distribution how many classes do you have to take to reach the given distribution?\n"
     ]
    },
    {
     "data": {
      "image/png": "[encoded data removed]",
      "text/plain": [
       "<Figure size 432x288 with 1 Axes>"
      ]
     },
     "metadata": {
      "needs_background": "light"
     },
     "output_type": "display_data"
    },
    {
     "name": "stdout",
     "output_type": "stream",
     "text": [
      "we can see here the median of the normal is has a 3rd quartile of 2.68 at this rate to get from the median of two to that of the data set we must take about 2.1323529411764706 classes before which makes sense given that the prerequisistes for CS 105 is CS 10, CS 12 and CS 14\n"
     ]
    }
   ],
   "source": [
    "print(\"Assuming that each class you take removes the bottom half of the distribution how many classes do you have to take to reach the given distribution?\")\n",
    "\n",
    "gd.plot()\n",
    "plt.plot(x, stats.norm.pdf(x, mu, sigma))\n",
    "plt.plot(x, stats.norm.pdf(x, df3[\"Student GPA? (If you don't know guestimate, ex. 3.5+)\"].median(), df3[\"Student GPA? (If you don't know guestimate, ex. 3.5+)\"].std()))\n",
    "\n",
    "plt.show()\n",
    "print(\"we can see here the median of the normal is has a 3rd quartile of\",mu + 0.68*sigma, \"at this rate to get from the median of two to that of the data set we must take about\", (df3[\"Student GPA? (If you don't know guestimate, ex. 3.5+)\"].median()-2)/.68, \"classes before which makes sense given that the prerequisistes for CS 105 is CS 10, CS 12 and CS 14\")"
   ]
  },
  {
   "cell_type": "markdown",
   "metadata": {},
   "source": [
    "**How are GPAs distributed by year in UCR?**"
   ]
  },
  {
   "cell_type": "code",
   "execution_count": 12,
   "metadata": {},
   "outputs": [
    {
     "data": {
      "image/png": "[encoded data removed]",
      "text/plain": [
       "<Figure size 432x288 with 2 Axes>"
      ]
     },
     "metadata": {
      "needs_background": "light"
     },
     "output_type": "display_data"
    }
   ],
   "source": [
    "year_gpa_counts = df.pivot_table(index = \"What academic year are you?\",columns = \"Student GPA? (If you don't know guestimate, ex. 3.5+)\",values = \"Timestamp\", aggfunc = \"count\")\n",
    "year_gpa_counts.update(year_gpa_counts.fillna(0))\n",
    "\n",
    "ax = sns.heatmap(year_gpa_counts,cmap = 'crest', annot=True, linewidths=.1)\n",
    "plt.xlabel(\"GPA\") \n",
    "plt.ylabel(\"Academic Year\") \n",
    "plt.show()"
   ]
  },
  {
   "cell_type": "markdown",
   "metadata": {},
   "source": [
    "**Do grades become more consistent the longer you are at university?**"
   ]
  },
  {
   "cell_type": "code",
   "execution_count": 13,
   "metadata": {},
   "outputs": [
    {
     "data": {
      "text/html": [
       "<div>\n",
       "<style scoped>\n",
       "    .dataframe tbody tr th:only-of-type {\n",
       "        vertical-align: middle;\n",
       "    }\n",
       "\n",
       "    .dataframe tbody tr th {\n",
       "        vertical-align: top;\n",
       "    }\n",
       "\n",
       "    .dataframe thead th {\n",
       "        text-align: right;\n",
       "    }\n",
       "</style>\n",
       "<table border=\"1\" class=\"dataframe\">\n",
       "  <thead>\n",
       "    <tr style=\"text-align: right;\">\n",
       "      <th></th>\n",
       "      <th>GPA Deviation</th>\n",
       "    </tr>\n",
       "    <tr>\n",
       "      <th>Academic Year</th>\n",
       "      <th></th>\n",
       "    </tr>\n",
       "  </thead>\n",
       "  <tbody>\n",
       "    <tr>\n",
       "      <th>Freshman</th>\n",
       "      <td>0.507445</td>\n",
       "    </tr>\n",
       "    <tr>\n",
       "      <th>Junior</th>\n",
       "      <td>0.393315</td>\n",
       "    </tr>\n",
       "    <tr>\n",
       "      <th>Senior/Senior+</th>\n",
       "      <td>0.232048</td>\n",
       "    </tr>\n",
       "    <tr>\n",
       "      <th>Sophomore</th>\n",
       "      <td>0.209667</td>\n",
       "    </tr>\n",
       "  </tbody>\n",
       "</table>\n",
       "</div>"
      ],
      "text/plain": [
       "                GPA Deviation\n",
       "Academic Year                \n",
       "Freshman             0.507445\n",
       "Junior               0.393315\n",
       "Senior/Senior+       0.232048\n",
       "Sophomore            0.209667"
      ]
     },
     "execution_count": 13,
     "metadata": {},
     "output_type": "execute_result"
    }
   ],
   "source": [
    "%matplotlib inline\n",
    "import matplotlib.pyplot as plt\n",
    "import pandas as pd\n",
    "import statistics\n",
    "df = pd.read_csv(\"CS105_Survey.csv\") # import the data from the survey\n",
    "df = df.drop(0) # NOTE: this top column had lots of junk data, we believe it is leftover from an old survey and is thus dropped\n",
    "df.drop (df.columns[[64,65,66,67,68,69,70,71,72,73,74,75,76]],axis = 1,inplace = True) #remove empty columns associated with junk entry\n",
    "df[\"GPA Deviation\"] = df[\"Student GPA? (If you don't know guestimate, ex. 3.5+)\"]\n",
    "midpoints = {\n",
    "    \"2.3 - 2.69\" : 2.5,\n",
    "    \"2.7 - 2.99\" : 2.85,\n",
    "    \"3.0 - 3.29\" : 3.15,\n",
    "    \"3.3 - 3.69\" : 3.5,\n",
    "    \"3.7 - 4.0\"  : 3.85\n",
    "}\n",
    "for element in midpoints:\n",
    "    df[\"GPA Deviation\"] = df[\"GPA Deviation\"].replace(element, midpoints[element])\n",
    "df[\"Academic Year\"] = df[\"What academic year are you?\"]\n",
    "df.groupby([\"Academic Year\"]).std().filter([\"GPA Deviation\"])"
   ]
  }
 ],
 "metadata": {
  "kernelspec": {
   "display_name": "Python 3",
   "language": "python",
   "name": "python3"
  },
  "language_info": {
   "codemirror_mode": {
    "name": "ipython",
    "version": 3
   },
   "file_extension": ".py",
   "mimetype": "text/x-python",
   "name": "python",
   "nbconvert_exporter": "python",
   "pygments_lexer": "ipython3",
   "version": "3.8.5"
  }
 },
 "nbformat": 4,
 "nbformat_minor": 4
}
